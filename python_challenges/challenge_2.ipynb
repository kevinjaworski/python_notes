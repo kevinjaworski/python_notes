{
 "cells": [
  {
   "cell_type": "code",
   "execution_count": 38,
   "metadata": {},
   "outputs": [
    {
     "name": "stdout",
     "output_type": "stream",
     "text": [
      "['Tangerine', 'Tamarillo', 'Tamarind', 'Tangelo', 'Tayberry', 'Tomato']\n"
     ]
    }
   ],
   "source": [
    "with open('fruit.txt','r') as fruit:\n",
    "    def fruitfinder(j):\n",
    "        fruit_list = []\n",
    "        for item in fruit:\n",
    "            if item[0] == j.capitalize():\n",
    "                if item[-1] == '\\n':\n",
    "                    clean_item = item[:-1]\n",
    "                    fruit_list.append(clean_item)\n",
    "                else:\n",
    "                    fruit_list.append(item)\n",
    "        return(fruit_list)\n",
    "\n",
    "    print(fruitfinder('t'))"
   ]
  },
  {
   "cell_type": "markdown",
   "metadata": {},
   "source": [
    "### Contents\n",
    "\n",
    "Grabs contents of file specified.\n",
    "\n",
    "Function generates blank list. \n",
    "\n",
    "For each entry in file, check if first letter of entry equals the capitalized string provided.\n",
    "\n",
    "If so, set var string as entry string minus last char.\n",
    "\n",
    "Append to list, return list. "
   ]
  }
 ],
 "metadata": {
  "kernelspec": {
   "display_name": "Python 3",
   "language": "python",
   "name": "python3"
  },
  "language_info": {
   "codemirror_mode": {
    "name": "ipython",
    "version": 3
   },
   "file_extension": ".py",
   "mimetype": "text/x-python",
   "name": "python",
   "nbconvert_exporter": "python",
   "pygments_lexer": "ipython3",
   "version": "3.9.1"
  }
 },
 "nbformat": 4,
 "nbformat_minor": 4
}
